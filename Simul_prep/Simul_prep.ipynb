{
 "cells": [
  {
   "cell_type": "markdown",
   "metadata": {},
   "source": [
    "# Automated setup for WKbeam and WKBacca simulation\n",
    "\n",
    "This module allows for the computation of the quasilinear radio-frequency diffusion tensor components based on the inputs\n",
    "of a LUKE calculation and wave propagation as calculated from WKBeam.\n"
   ]
  },
  {
   "cell_type": "code",
   "execution_count": 10,
   "metadata": {},
   "outputs": [],
   "source": [
    "# Import the necessary modules\n",
    "import os\n",
    "import sys\n",
    "import subprocess\n",
    "\n",
    "import numpy as np\n",
    "import matplotlib.pyplot as plt\n",
    "from Simul_prep_aux import create_workspace, update_config"
   ]
  },
  {
   "cell_type": "markdown",
   "metadata": {},
   "source": [
    "## Create new folder for the WKBeam calculation "
   ]
  },
  {
   "cell_type": "code",
   "execution_count": 11,
   "metadata": {},
   "outputs": [],
   "source": [
    "calc_path           = '/home/devlamin/WKbeam_simulations'\n",
    "new_calc_folder     = 'TCV_85352_1.3_fluct'\n",
    "folders             = ['input', 'output', 'plots', 'configs']\n"
   ]
  },
  {
   "cell_type": "code",
   "execution_count": 12,
   "metadata": {},
   "outputs": [
    {
     "name": "stdout",
     "output_type": "stream",
     "text": [
      "New folder TCV_85352_1.3_fluct created for the WKBeam calculation at /home/devlamin/WKbeam_simulations/TCV_85352_1.3_fluct\n",
      "Subfolder input created at /home/devlamin/WKbeam_simulations/TCV_85352_1.3_fluct/input\n",
      "Subfolder output created at /home/devlamin/WKbeam_simulations/TCV_85352_1.3_fluct/output\n",
      "Subfolder plots created at /home/devlamin/WKbeam_simulations/TCV_85352_1.3_fluct/plots\n",
      "Subfolder configs created at /home/devlamin/WKbeam_simulations/TCV_85352_1.3_fluct/configs\n",
      "Input data should be placed in the new input folder.\n"
     ]
    }
   ],
   "source": [
    "create_workspace(calc_path, new_calc_folder, folders = folders)"
   ]
  },
  {
   "cell_type": "markdown",
   "metadata": {},
   "source": [
    "At this point you should put the correct ne.dat, Te.dat, topfile, fluctuations file and Lperp file in the input directory "
   ]
  },
  {
   "cell_type": "markdown",
   "metadata": {},
   "source": [
    "## Create the configuration files from the Standardconfigs and the new values"
   ]
  },
  {
   "cell_type": "code",
   "execution_count": 17,
   "metadata": {},
   "outputs": [],
   "source": [
    "# Location of some standard config files\n",
    "Standardconfigs_loc = '/home/devlamin/WKBacca_QL/Simul_prep/StandardConfigs'\n",
    "# Location of the new values for the config files\n",
    "# Usually would be in your newly created folder under the config subfolder\n",
    "Newvalues_loc       = os.path.join(calc_path, new_calc_folder, 'configs')\n",
    "Calculation_loc         = os.path.join(calc_path, new_calc_folder)"
   ]
  },
  {
   "cell_type": "code",
   "execution_count": 18,
   "metadata": {},
   "outputs": [
    {
     "name": "stdout",
     "output_type": "stream",
     "text": [
      "Creating new configuration files...\n",
      "New configuration files created.\n"
     ]
    }
   ],
   "source": [
    "print('Creating new configuration files...')\n",
    "for file in os.listdir(Newvalues_loc):\n",
    "    if file.endswith('.txt'):\n",
    "        kind = file.split('_')[0]\n",
    "        standard_file = os.path.join(Standardconfigs_loc, kind + '.txt')\n",
    "        new_values_file = os.path.join(Newvalues_loc, file)\n",
    "        output_file = os.path.join(Calculation_loc, kind + '.txt')\n",
    "        update_config(standard_file, new_values_file, output_file)\n",
    "\n",
    "print('New configuration files created.')"
   ]
  },
  {
   "cell_type": "markdown",
   "metadata": {},
   "source": [
    "## Creating bash script for WKBeam"
   ]
  },
  {
   "cell_type": "code",
   "execution_count": 19,
   "metadata": {},
   "outputs": [],
   "source": [
    "Number_of_Cores = 10\n",
    "WKBeam_loc = '/home/devlamin/WKBacca_QL/'"
   ]
  },
  {
   "cell_type": "code",
   "execution_count": 20,
   "metadata": {},
   "outputs": [],
   "source": [
    "# Create a bash script to run the calculations\n",
    "script = os.path.join(WKBeam_loc, new_calc_folder + '.sh')\n",
    "with open(script, 'w') as f:\n",
    "    f.write('#!/bin/bash\\n')\n",
    "    f.write('command1=' + Calculation_loc + '/RayTracing.txt\\n')\n",
    "    f.write('mpiexec -np ' + str(Number_of_Cores) + ' python3 WKBeam.py trace $command1\\n')\n",
    "\n",
    "    # Write stuff for postprocessing\n",
    "    f.write('wait')\n",
    "    f.write('\\n')\n",
    "    f.write('python3 WKBeam.py bin ' + Calculation_loc + '/Angular.txt\\n')\n",
    "    f.write('python3 WKBeam.py bin ' + Calculation_loc + '/Absorption.txt\\n')\n",
    "    f.write('python3 WKBeam.py bin ' + Calculation_loc + '/XZ.txt\\n')\n",
    "    f.write('python3 WKBeam.py bin ' + Calculation_loc + '/RhoThetaN.txt\\n')\n",
    "\n",
    "    f.write('wait')\n",
    "    f.write('\\n')\n",
    "    f.write('echo \"All done!\"')\n",
    "\n",
    "    # Make the script executable\n",
    "    os.chmod(script, 0o755)\n",
    "\n",
    "\n",
    "    # close \n",
    "    f.close()\n",
    "\n",
    "# Create the bash script for figures\n",
    "script = os.path.join(WKBeam_loc, new_calc_folder + '_figures.sh')\n",
    "\n",
    "with open(script, 'w') as f:\n",
    "    f.write('#!/bin/bash\\n')\n",
    "    f.write('command1=' + Calculation_loc + '/RayTracing.txt\\n')\n",
    "    f.write('python3 WKBeam.py plot2d ' + Calculation_loc + '/Angular.txt &\\n')\n",
    "    f.write('python3 WKBeam.py plotabs ' + Calculation_loc + '/Absorption.txt &\\n')\n",
    "    f.write('python3 WKBeam.py plotbin ' + Calculation_loc + '/output/XZ_binned.hdf5' + ' $command1 &\\n')\n",
    "    f.write('python3 WKBeam.py beamFluct ' + Calculation_loc + '/output/XZ_binned.hdf5' + ' $command1 &\\n')\n",
    "\n",
    "    f.write('wait')\n",
    "    f.write('\\n')\n",
    "    f.write('echo \"All done!\"')\n",
    "\n",
    "    # Make the script executable\n",
    "    os.chmod(script, 0o755)\n",
    "\n",
    "    # close\n",
    "    f.close()"
   ]
  }
 ],
 "metadata": {
  "kernelspec": {
   "display_name": "usr",
   "language": "python",
   "name": "python3"
  },
  "language_info": {
   "codemirror_mode": {
    "name": "ipython",
    "version": 3
   },
   "file_extension": ".py",
   "mimetype": "text/x-python",
   "name": "python",
   "nbconvert_exporter": "python",
   "pygments_lexer": "ipython3",
   "version": "3.10.3"
  }
 },
 "nbformat": 4,
 "nbformat_minor": 2
}
