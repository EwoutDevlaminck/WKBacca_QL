{
 "cells": [
  {
   "cell_type": "markdown",
   "metadata": {},
   "source": [
    "# Wrapper function to create and setup a WKBeam run"
   ]
  },
  {
   "cell_type": "code",
   "execution_count": 2,
   "metadata": {},
   "outputs": [],
   "source": [
    "import numpy as np\n",
    "import matplotlib.pyplot as plt\n",
    "from wrapper_aux import *"
   ]
  },
  {
   "cell_type": "markdown",
   "metadata": {},
   "source": [
    "## Specify the paths\n",
    "\n"
   ]
  },
  {
   "cell_type": "code",
   "execution_count": 12,
   "metadata": {},
   "outputs": [
    {
     "name": "stdout",
     "output_type": "stream",
     "text": [
      "Created directory: /home/devlamin/WKbeam_simulations/TCV_86158_1.3_fluct\n",
      "Created directory: /home/devlamin/WKbeam_simulations/TCV_86158_1.3_fluct/input\n",
      "Created directory: /home/devlamin/WKbeam_simulations/TCV_86158_1.3_fluct/output\n",
      "Created directory: /home/devlamin/WKbeam_simulations/TCV_86158_1.3_fluct/plots\n",
      "Created directory: /home/devlamin/WKbeam_simulations/TCV_86158_1.3_fluct/configs\n"
     ]
    }
   ],
   "source": [
    "parent_folder   = '/home/devlamin/WKbeam_simulations'\n",
    "\n",
    "shot            = 86158\n",
    "time            = 1.3\n",
    "fluct_option    = 'fluct'\n",
    "\n",
    "foldername = parent_folder + '/TCV_{:d}_{:.1f}_{}'.format(shot, time, fluct_option)\n",
    "\n",
    "# Create the folder and inputfolders\n",
    "subfolders = ['input', 'output', 'plots', 'configs']\n",
    "\n",
    "folder = create_dir(foldername, subfolders)\n"
   ]
  },
  {
   "cell_type": "markdown",
   "metadata": {},
   "source": [
    "At this point, the configs and input folders should be filled up first. Then continue notebook execution!"
   ]
  },
  {
   "cell_type": "code",
   "execution_count": 13,
   "metadata": {},
   "outputs": [
    {
     "name": "stdout",
     "output_type": "stream",
     "text": [
      "Created config file: /home/devlamin/WKbeam_simulations/TCV_86158_1.3_fluct/Absorption.txt\n",
      "Created config file: /home/devlamin/WKbeam_simulations/TCV_86158_1.3_fluct/AbsorptionUni.txt\n",
      "Created config file: /home/devlamin/WKbeam_simulations/TCV_86158_1.3_fluct/Angular.txt\n",
      "Created config file: /home/devlamin/WKbeam_simulations/TCV_86158_1.3_fluct/QLdiff.txt\n",
      "Created config file: /home/devlamin/WKbeam_simulations/TCV_86158_1.3_fluct/RayTracing.txt\n",
      "Created config file: /home/devlamin/WKbeam_simulations/TCV_86158_1.3_fluct/RhoThetaN.txt\n",
      "Created config file: /home/devlamin/WKbeam_simulations/TCV_86158_1.3_fluct/XZ.txt\n"
     ]
    }
   ],
   "source": [
    "# Update the config files, for each of the configfiles found in the updated_configs folder\n",
    "standard_configs = '/home/devlamin/WKBacca_QL/Wrapper/StandardConfigs'\n",
    "updated_configs = '/home/devlamin/WKbeam_simulations/TCV_86158_1.3_fluct/configs'\n",
    "\n",
    "for config in os.listdir(updated_configs):\n",
    "    file_update = updated_configs + '/' + config\n",
    "    \n",
    "    file_standard = standard_configs + '/' + config.split('_')[0] + '.txt'\n",
    "    file_output = foldername + '/' + config.split('_')[0] + '.txt'\n",
    "\n",
    "    update_config(file_standard, file_update, file_output)\n",
    "    print('Created config file: {}'.format(file_output))"
   ]
  },
  {
   "cell_type": "markdown",
   "metadata": {},
   "source": [
    "## Create executeable bash script"
   ]
  },
  {
   "cell_type": "code",
   "execution_count": 14,
   "metadata": {},
   "outputs": [
    {
     "name": "stdout",
     "output_type": "stream",
     "text": [
      "Bash script created: /home/devlamin/WKBacca_QL/TCV_86158_1.3_fluct.sh\n",
      "Bash script created: /home/devlamin/WKBacca_QL/TCV_86158_1.3_fluct_plot.sh\n"
     ]
    }
   ],
   "source": [
    "\n",
    "script_path = '/home/devlamin/WKBacca_QL/TCV_{:d}_{:.1f}_{}'.format(shot, time, fluct_option) + '.sh'\n",
    "N_cores = 32\n",
    "\n",
    "script_content = f\"\"\"#!/bin/bash\n",
    "command1={foldername}/RayTracing.txt\n",
    "mpiexec -np {N_cores} python3 WKBeam.py trace $command1\n",
    "wait\n",
    "python3 WKBeam.py bin {foldername}/Angular.txt\n",
    "python3 WKBeam.py bin {foldername}/Absorption.txt\n",
    "python3 WKBeam.py bin {foldername}/AbsorptionUni.txt\n",
    "python3 WKBeam.py bin {foldername}/XZ.txt\n",
    "python3 WKBeam.py bin {foldername}/RhoThetaN.txt\n",
    "wait\n",
    "\n",
    "echo \"Ray tracing and binning done!\"\n",
    "mpiexec -np 22 python3 WKBeam.py QLdiff {foldername}/QLdiff.txt\n",
    "\n",
    "echo \" Quasilinear diffusion calculation done!\"\n",
    "\"\"\"\n",
    "\n",
    "# Write to file\n",
    "with open(script_path, \"w\") as f:\n",
    "    f.write(script_content)\n",
    "\n",
    "# Make executable\n",
    "import os\n",
    "os.chmod(script_path, 0o755)\n",
    "\n",
    "print(f\"Bash script created: {script_path}\")\n",
    "\n",
    "script_path = '/home/devlamin/WKBacca_QL/TCV_{:d}_{:.1f}_{}_plot.sh'.format(shot, time, fluct_option)\n",
    "\n",
    "script_content = f\"\"\"#!/bin/bash\n",
    "command1={foldername}/RayTracing.txt\n",
    "python3 WKBeam.py plot2d {foldername}/Angular.txt &\n",
    "python3 WKBeam.py plotabs {foldername}/Absorption.txt &\n",
    "python3 WKBeam.py plotbin {foldername}/output/XZ_binned.hdf5 $command1 &\n",
    "python3 WKBeam.py beamFluct {foldername}/output/XZ_binned.hdf5 $command1 &\n",
    "wait\n",
    "echo \"All done!\"\n",
    "\"\"\"\n",
    "\n",
    "# Write to file\n",
    "with open(script_path, \"w\") as f:\n",
    "    f.write(script_content)\n",
    "\n",
    "# Make executable\n",
    "import os\n",
    "os.chmod(script_path, 0o755)\n",
    "\n",
    "print(f\"Bash script created: {script_path}\")\n",
    "\n"
   ]
  }
 ],
 "metadata": {
  "kernelspec": {
   "display_name": "Python 3",
   "language": "python",
   "name": "python3"
  },
  "language_info": {
   "codemirror_mode": {
    "name": "ipython",
    "version": 3
   },
   "file_extension": ".py",
   "mimetype": "text/x-python",
   "name": "python",
   "nbconvert_exporter": "python",
   "pygments_lexer": "ipython3",
   "version": "3.10.3"
  }
 },
 "nbformat": 4,
 "nbformat_minor": 2
}
