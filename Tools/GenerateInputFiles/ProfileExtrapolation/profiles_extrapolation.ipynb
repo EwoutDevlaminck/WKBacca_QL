{
 "cells": [
  {
   "cell_type": "markdown",
   "metadata": {},
   "source": [
    "# Extrapolation of a standard plasma profiles in tokamaks\n",
    "\n",
    "This notebook allows the extrapolation of electron density and temperature profiles \n",
    "\n",
    "\\begin{equation*}\n",
    " n_e = n_e(\\rho), \\qquad T_e = T_e(\\rho)\n",
    "\\end{equation*}\n",
    "\n",
    "where $\\rho = \\sqrt{\\psi}$ and $\\psi$ is the normalized poloidal flux. Generally, the profiles are given as an arrays\n",
    "\n",
    "\\begin{equation*}\n",
    " n_{e, i} = n_e(\\rho_i), \\qquad T_{e, j} = T_e(\\rho_j),\n",
    "\\end{equation*}\n",
    "\n",
    "over (possibly different uniform grid $\\rho_i = \\rho_{\\mathrm{off}, n} + i h$ for $i \\in \\{0, \\ldots, N \\}$, $h>0$, and \n",
    "$\\rho_j = \\rho_{\\mathrm{off}, T} + j k$ for $j\\in \\{0, \\ldots, M\\}$, $k>0$, with possible offsets \n",
    "$\\rho_{\\mathrm{off}, n}, \\rho_{\\mathrm{off},T} \\geq 0$. \n",
    "\n",
    "\n",
    "Such profiles are extended from the point with indices $i_\\mathrm{start} \\leq N$ and $j_\\mathrm{start} \\leq M$ \n",
    "up to the given common value $\\rho_\\mathrm{max}$ of the poloidal flux coordinate. This implies that the profiles are \n",
    "repladed by model functions in the range $\\rho > \\rho_{i_\\mathrm{start}}$ and $\\rho > \\rho_{j_\\mathrm{start}}$, respectively,\n",
    "and thus the indices $i_\\mathrm{start}$ and $j_\\mathrm{start}$ must be large enough for the data in the plasma core to be\n",
    "unchanged.\n",
    "\n",
    "\n",
    "**Usage:**\n",
    "\n",
    "The user should change the input file name and the parameters below as appropriate and run the whole notebook. \n",
    "Plots are meant to give an indication about the quality of the result. "
   ]
  },
  {
   "cell_type": "markdown",
   "metadata": {},
   "source": [
    "# Read data and preliminary definitions\n",
    "\n",
    "First the density profile is read from the filed 'ne.dat' and the temperature profile from 'Te.dat'. The data format for the density is \n",
    "the standard format used by the ```TORBEAM``` code, namely, an ```ASCII``` file with\n",
    "\n",
    "$N$\n",
    "\n",
    "$\\rho_0$ $n_{e,0}$\n",
    "\n",
    "$\\rho_1$ $n_{e,1}$\n",
    "\n",
    "...                 \n",
    "\n",
    "$\\rho_{N-1}$ $n_{e,N-1}$\n",
    "\n",
    "and analogously for the electron temperature. The first line is skipped when data are loaded by the ```numpy``` function \n",
    "```loadtxt```."
   ]
  },
  {
   "cell_type": "code",
   "execution_count": 1,
   "metadata": {},
   "outputs": [],
   "source": [
    "# Working directory (must contain the original data files)\n",
    "working_dir = 'path to the working directory where the input equilibrium file can be found'\n",
    "ne_filename = 'name of the equilibrium density file'\n",
    "Te_filename = 'name of the equilibrium temperature file'"
   ]
  },
  {
   "cell_type": "code",
   "execution_count": 4,
   "metadata": {},
   "outputs": [],
   "source": [
    "# Import statements\n",
    "from pylab import *\n",
    "import math\n",
    "from scipy.optimize import curve_fit\n",
    "\n",
    "%matplotlib inline"
   ]
  },
  {
   "cell_type": "code",
   "execution_count": 5,
   "metadata": {},
   "outputs": [],
   "source": [
    "# Load density data\n",
    "data_ne = loadtxt(working_dir+'/'+ne_filename, skiprows=1)\n",
    "rho_ne = data_ne[:,0]\n",
    "Ne = data_ne[:,1]\n",
    "# Load temperature data\n",
    "data_Te = loadtxt(working_dir+'/'+Te_filename, skiprows=1)\n",
    "rho_Te = data_Te[:,0]\n",
    "Te = data_Te[:,1]"
   ]
  },
  {
   "cell_type": "code",
   "execution_count": null,
   "metadata": {},
   "outputs": [],
   "source": [
    "# If needed, convert the data to the WKBeam units \n",
    "# (i.e., Ne must be in 10^13 cm^-3 = 10^19 m^-3, while Te must in KeV)\n",
    "ne_conv_factor = 1\n",
    "Te_conv_factot = 1\n",
    "\n",
    "Ne *= ne_conv_factor\n",
    "Te *= Te_conv_factor"
   ]
  },
  {
   "cell_type": "markdown",
   "metadata": {},
   "source": [
    "It is expected that $\\rho_i$ is given in strictly increasing order, i.e., $\\rho_i < \\rho_j$ for indices $i < j$. It may happpen that this is not the case. Then the data are  flipped."
   ]
  },
  {
   "cell_type": "code",
   "execution_count": 6,
   "metadata": {},
   "outputs": [],
   "source": [
    "# Check the order of the radial coordinate and flip the data if needed.\n",
    "# ... general function ...\n",
    "def flip_data(rho, data):\n",
    "    \"\"\" Check if the order of the data is ok, and, if not, flip the data\n",
    "    appropriately.\"\"\"\n",
    "    if rho[0] > rho[1]:\n",
    "        flipped_rho = flipud(rho)\n",
    "        flipped_data = flipud(data)\n",
    "        return flipped_rho, flipped_data\n",
    "    else:\n",
    "        return rho, data\n",
    "# ... density data ...\n",
    "rho_ne, Ne = flip_data(rho_ne, Ne)\n",
    "# ... temperature data ...\n",
    "rho_Te, Te = flip_data(rho_Te, Te)"
   ]
  },
  {
   "cell_type": "markdown",
   "metadata": {},
   "source": [
    "# Fitting funtion\n",
    "\n",
    "For both density and temperature profiles the data on the outer part of profiles are fitted to the model\n",
    "\n",
    "\\begin{equation*}\n",
    "F_{a,b,c,d}(\\rho) = a \\Big(\\frac{1}{2} - \\frac{1}{\\pi} \\arctan(\\frac{\\rho - c}{b} ) \\Big) \n",
    "\\begin{cases}\n",
    "    \\exp\\big( -(\\rho - c)^2 / d^2 \\big), & \\text{for $\\rho > c$}, \\\\\\\\\n",
    "    1, & \\text{for $\\rho \\leq c$},\n",
    "\\end{cases}\n",
    "\\end{equation*}\n",
    "\n",
    "where $a, b, c, d \\in \\mathbb{R}$ are parameters of the fit, for which ```curve_fit``` from ```scipy.interpolate``` is used."
   ]
  },
  {
   "cell_type": "code",
   "execution_count": 7,
   "metadata": {},
   "outputs": [],
   "source": [
    "# Fit function  \n",
    "def func(x,a,b,c,d):\n",
    "    result = empty([x.size])\n",
    "    for i in range(0,x.size):\n",
    "        if x[i] > c:\n",
    "            result[i] = (0.5 - math.atan((x[i]-c)/b) / math.pi)*a*\\\n",
    "                         math.exp(-(x[i]-c)**2 / d**2)\n",
    "        else:\n",
    "            result[i] = (0.5 - math.atan((x[i]-c)/b) / math.pi)*a\n",
    "    return result"
   ]
  },
  {
   "cell_type": "markdown",
   "metadata": {},
   "source": [
    "## Set parameters\n",
    "\n",
    "In this section, the parameter for the extrapolation should be defined. Before setting the parameters, one should check the data array."
   ]
  },
  {
   "cell_type": "code",
   "execution_count": 16,
   "metadata": {},
   "outputs": [
    {
     "data": {
      "image/png": "[encoded data removed]",
      "text/plain": [
       "<Figure size 432x288 with 1 Axes>"
      ]
     },
     "metadata": {
      "needs_background": "light"
     },
     "output_type": "display_data"
    }
   ],
   "source": [
    "# Plot data arrays vs their index, not the physical coordinate\n",
    "figure(0)\n",
    "# ... density ...\n",
    "plot(Ne);\n",
    "plot(Te);\n",
    "grid(True)"
   ]
  },
  {
   "cell_type": "code",
   "execution_count": 30,
   "metadata": {},
   "outputs": [],
   "source": [
    "# Parameters for the density profile\n",
    "IndexIstart = 130\n",
    "IndexIstop = rho_ne.size\n",
    "fit_parameter_seed_ne = [0.5, 0.5, 1.1, 0.1]\n",
    "# Parameters for the temperature profile\n",
    "IndexJstart = 140\n",
    "IndexJstop = rho_Te.size\n",
    "fit_parameter_seed_Te = [0.01, 100., 0.9, 1.]\n",
    "# Common parameters\n",
    "rho_max = 1.9\n",
    "nmbrAdditionalPoints = 200"
   ]
  },
  {
   "cell_type": "markdown",
   "metadata": {},
   "source": [
    "# Perform the calculations\n",
    "\n",
    "For both the density and temperature profiles the following operations are performed:\n",
    "\n",
    "1. Fit the model $F_{a,b,c,d}(\\rho)$ to the desired slice of data. This gives the values of the fit parameters $a,b,c,d$.\n",
    "\n",
    "2. Extend the data by appending additional point after the start indices $i_\\mathrm{start}$ and $j_\\mathrm{start}$. "
   ]
  },
  {
   "cell_type": "code",
   "execution_count": 31,
   "metadata": {},
   "outputs": [],
   "source": [
    "# --- Extend Denisty ---\n",
    "\n",
    "# Best fit for the density\n",
    "p_ne, info = curve_fit(func, \n",
    "                           rho_ne[IndexIstart:IndexIstop], \n",
    "                           Ne[IndexIstart:IndexIstop],\n",
    "                           fit_parameter_seed_ne)\n",
    "\n",
    "# Extrapolated points for the density\n",
    "rho_ne_cut = rho_ne[0:IndexIstart-1]\n",
    "Ne_cut = Ne[0:IndexIstart-1]\n",
    "rho_ne_new = linspace(rho_ne[IndexIstart], rho_max, nmbrAdditionalPoints)\n",
    "Ne_new = func(rho_ne_new, p_ne[0], p_ne[1], p_ne[2], p_ne[3]) \n",
    "\n",
    "# Combine unchanged data with the extrapolated profile\n",
    "rho_ne_extended = append(rho_ne_cut, rho_ne_new, axis=0)\n",
    "Ne_extended = append(Ne_cut, Ne_new, axis=0)\n",
    "\n",
    "# --- Extend Temperature ---\n",
    "\n",
    "# Best fit for the temperature\n",
    "p_Te, info = curve_fit(func, \n",
    "                           rho_Te[IndexJstart:IndexJstop], \n",
    "                           Te[IndexJstart:IndexJstop],\n",
    "                           fit_parameter_seed_Te)#\n",
    "\n",
    "# Extrapolated points for the temperature\n",
    "rho_Te_cut = rho_Te[0:IndexJstart-1]\n",
    "Te_cut = Te[0:IndexJstart-1]\n",
    "rho_Te_new = linspace(rho_Te[IndexJstart], rho_max, nmbrAdditionalPoints)\n",
    "Te_new = func(rho_Te_new, p_Te[0], p_Te[1], p_Te[2], p_Te[3]) \n",
    "\n",
    "# Combine unchanged data with the extrapolated profile\n",
    "rho_Te_extended = append(rho_Te_cut, rho_Te_new, axis=0)\n",
    "Te_extended = append(Te_cut, Te_new, axis=0)"
   ]
  },
  {
   "cell_type": "markdown",
   "metadata": {},
   "source": [
    "### Plots of the original and extrapolated profiles"
   ]
  },
  {
   "cell_type": "code",
   "execution_count": 33,
   "metadata": {},
   "outputs": [
    {
     "data": {
      "image/png": "[encoded data removed]",
      "text/plain": [
       "<Figure size 864x288 with 2 Axes>"
      ]
     },
     "metadata": {
      "needs_background": "light"
     },
     "output_type": "display_data"
    }
   ],
   "source": [
    "figure(1, figsize=(12,4))\n",
    "# Density\n",
    "subplot(121)\n",
    "plot(rho_ne, Ne);\n",
    "plot(rho_ne_extended, Ne_extended);\n",
    "xlabel(r'$\\rho$')\n",
    "ylabel(r'$n_e$')\n",
    "legend(('original data', 'extended data'));\n",
    "# Temperature\n",
    "subplot(122)\n",
    "plot(rho_Te, Te);\n",
    "plot(rho_Te_extended, Te_extended);\n",
    "xlabel(r'$\\rho$')\n",
    "ylabel(r'$T_e$')\n",
    "legend(('original data', 'extended data'));"
   ]
  },
  {
   "cell_type": "markdown",
   "metadata": {},
   "source": [
    "### Save data in the appropriate format \n",
    "\n",
    "When the user is satisfied with the quality of the extrapolation, here the extrapolated data can be saved in the ```TORBEAM``` format described above."
   ]
  },
  {
   "cell_type": "code",
   "execution_count": 34,
   "metadata": {},
   "outputs": [],
   "source": [
    "# Output files\n",
    "Ne_filename = working_dir + '/ne.dat.extended'\n",
    "Te_filename = working_dir + '/Te.dat.extended'\n",
    "\n",
    "# Open output files\n",
    "Ne_file = open(Ne_filename, 'ab')\n",
    "Te_file = open(Te_filename, 'ab')\n",
    "\n",
    "# Clear the content of both files when not already empty\n",
    "Ne_file.seek(0); Ne_file.truncate()\n",
    "Te_file.seek(0); Te_file.truncate()\n",
    "\n",
    "# Export the data\n",
    "data = array([rho_ne_extended, Ne_extended])\n",
    "savetxt(Ne_file, array([rho_ne_extended.size], dtype=int), fmt='%i')\n",
    "savetxt(Ne_file, data.T)\n",
    "#\n",
    "data = array([rho_Te_extended, Te_extended])\n",
    "savetxt(Te_file, array([rho_Te_extended.size], dtype=int), fmt='%i')\n",
    "savetxt(Te_file, data.T)\n",
    "\n",
    "# Close files\n",
    "Ne_file.close()\n",
    "Te_file.close()"
   ]
  },
  {
   "cell_type": "markdown",
   "metadata": {},
   "source": [
    "End of notebook."
   ]
  },
  {
   "cell_type": "code",
   "execution_count": 10,
   "metadata": {},
   "outputs": [],
   "source": []
  }
 ],
 "metadata": {
  "kernelspec": {
   "display_name": "Python 3 (ipykernel)",
   "language": "python",
   "name": "python3"
  },
  "language_info": {
   "codemirror_mode": {
    "name": "ipython",
    "version": 3
   },
   "file_extension": ".py",
   "mimetype": "text/x-python",
   "name": "python",
   "nbconvert_exporter": "python",
   "pygments_lexer": "ipython3",
   "version": "3.10.6"
  }
 },
 "nbformat": 4,
 "nbformat_minor": 1
}
