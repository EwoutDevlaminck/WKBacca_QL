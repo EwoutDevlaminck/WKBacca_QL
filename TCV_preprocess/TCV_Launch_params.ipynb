{
 "cells": [
  {
   "cell_type": "code",
   "execution_count": 1,
   "metadata": {},
   "outputs": [],
   "source": [
    "from scipy.io import loadmat\n",
    "import numpy as np\n",
    "import matplotlib.pyplot as plt\n",
    "import os\n",
    "import scipy.signal as signal\n",
    "import scipy.interpolate as spl\n",
    "from mpl_toolkits.axes_grid1.inset_locator import inset_axes\n",
    "import tkinter as tk\n",
    "from matplotlib.figure import Figure\n",
    "from matplotlib.backends.backend_tkagg import FigureCanvasTkAgg"
   ]
  },
  {
   "cell_type": "code",
   "execution_count": 3,
   "metadata": {},
   "outputs": [],
   "source": [
    "file_loc = '/home/devlamin/Documents/WKBeam_related/WKBacca_dev_v1/TCV_preprocess/ECparams_72644_1.05s.mat'\n",
    "\n",
    "data = loadmat(file_loc)['beams']"
   ]
  },
  {
   "cell_type": "code",
   "execution_count": 5,
   "metadata": {},
   "outputs": [
    {
     "name": "stdout",
     "output_type": "stream",
     "text": [
      "Launchers: [4]\n",
      "Frequencies: [82.70000128]GHz\n",
      "Centerpoint (cm): [122.99130459] [-4.28551006] [-0.29657897]\n",
      "Toroidal angle: [-13.97421548]°\n",
      "Poloidal angle: [-0.15038329]°\n",
      "Beamwidth: [2.0929982]cm\n",
      "Curvature radius: [77.58658857]cm\n"
     ]
    },
    {
     "data": {
      "image/png": "[encoded data removed]",
      "text/plain": [
       "<Figure size 640x480 with 1 Axes>"
      ]
     },
     "metadata": {},
     "output_type": "display_data"
    }
   ],
   "source": [
    "launchers = data['launchers'][0][0][0]\n",
    "\n",
    "freq = data['frequencies'][0][0][0] # In GHz\n",
    "\n",
    "\n",
    "t = data['timepoints'][0][0] # In s\n",
    "P = data['powers'][0][0] # In kW\n",
    "\n",
    "\n",
    "centerpoint = data['centerpoint'][0][0]\n",
    "x0 = centerpoint['x'][0][0][0] # In cm\n",
    "y0 = centerpoint['y'][0][0][0]  # In cm\n",
    "z0 = centerpoint['z'][0][0][0] # In cm\n",
    "\n",
    "tordeg = data['phi'][0][0][0] # In degrees, counterclokcwise seen from above, with 0 pointing to axis\n",
    "poldeg = data['theta'][0][0][0] # In degrees, counterclockwise seen from in front, with 0 pointing to axis\n",
    "\n",
    "beamwidth = data['beamwidth'][0][0][0] # In cm\n",
    "\n",
    "curv_rad = data['curv_rad'][0][0][0] # In cm\n",
    "\n",
    "# Print the results\n",
    "print('Launchers:', launchers)\n",
    "print(f'Frequencies: {freq}GHz')\n",
    "print('Centerpoint (cm):', x0, y0, z0)\n",
    "print(f'Toroidal angle: {tordeg}°')\n",
    "print(f'Poloidal angle: {poldeg}°')\n",
    "print(f'Beamwidth: {beamwidth}cm')\n",
    "print(f'Curvature radius: {curv_rad}cm')\n",
    "\n",
    "plt.plot(t, P)\n",
    "plt.xlabel('Time (s)')\n",
    "plt.ylabel('Power (kW)')\n",
    "plt.title('Power vs Time')\n",
    "#plt.xlim(0.7, 1.3)\n",
    "plt.show()\n",
    "\n"
   ]
  },
  {
   "cell_type": "code",
   "execution_count": 6,
   "metadata": {},
   "outputs": [
    {
     "name": "stdout",
     "output_type": "stream",
     "text": [
      "Average power over 0.1s window centered at 1.05s: 545.16650390625kW\n"
     ]
    }
   ],
   "source": [
    "# Calculate average power over time window\n",
    "\n",
    "t_center = 1.05 # s\n",
    "dt = 0.1 # s\n",
    "\n",
    "t_start = t_center - dt/2\n",
    "t_end = t_center + dt/2\n",
    "\n",
    "P_avg = np.mean(P[(t > t_start) & (t < t_end)])\n",
    "print(f'Average power over {dt}s window centered at {t_center}s: {P_avg}kW')"
   ]
  }
 ],
 "metadata": {
  "kernelspec": {
   "display_name": "Python 3",
   "language": "python",
   "name": "python3"
  },
  "language_info": {
   "codemirror_mode": {
    "name": "ipython",
    "version": 3
   },
   "file_extension": ".py",
   "mimetype": "text/x-python",
   "name": "python",
   "nbconvert_exporter": "python",
   "pygments_lexer": "ipython3",
   "version": "3.10.12"
  }
 },
 "nbformat": 4,
 "nbformat_minor": 2
}
