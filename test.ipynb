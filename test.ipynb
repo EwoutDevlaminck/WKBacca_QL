{
 "cells": [
  {
   "cell_type": "code",
   "execution_count": 187,
   "metadata": {},
   "outputs": [],
   "source": [
    "from QL_bounce_calc_v3 import *\n",
    "\n",
    "import warnings\n",
    "warnings.filterwarnings(\"ignore\") # Fuck around until I find out\n",
    "p_norm = np.linspace(0, 30, 20)\n",
    "ksi = np.linspace(-.999, .999, 30)\n"
   ]
  },
  {
   "cell_type": "code",
   "execution_count": 188,
   "metadata": {},
   "outputs": [
    {
     "name": "stdout",
     "output_type": "stream",
     "text": [
      "\n",
      " WARNING topfile: assuming psi = 1. at the separatrix. \n",
      "\n"
     ]
    }
   ],
   "source": [
    "# WKBeam results, binned in appropriate dimensions\n",
    "filename_WKBeam = '/home/devlamin/Documents/WKBeam_related/WKBacca_dev_v1/WKBacca_cases/TCV74302/Output_theta_invertedsign/L1_binned_QL_test2.hdf5'\n",
    "\n",
    "# Equilibrium filename\n",
    "filename_Eq = '/home/devlamin/Documents/WKBeam_related/WKBacca_QL/WKBacca_cases/TCV74302/L1_raytracing.txt'\n",
    "\n",
    "WhatToResolve, FreqGHz, mode, Wfct, Absorption, EnergyFlux, rho, theta, npar, nperp = read_h5file(filename_WKBeam)\n",
    "psi = rho**2\n",
    "idata = InputData(filename_Eq)\n",
    "Eq = TokamakEquilibrium(idata)\n"
   ]
  },
  {
   "cell_type": "code",
   "execution_count": 189,
   "metadata": {},
   "outputs": [],
   "source": [
    "omega = phys.AngularFrequency(FreqGHz)\n",
    "ptR, ptZ, ptBt, ptBR, ptBz, ptB, ptNe, ptTe, P, X, R, L, S = config_quantities(psi, theta, omega, Eq)"
   ]
  },
  {
   "cell_type": "code",
   "execution_count": 190,
   "metadata": {},
   "outputs": [],
   "source": [
    "Edens = 4 * np.pi / c * 1e6 * Wfct[0, :, :, :, 0]\n",
    "l = 0\n",
    "t = 30\n",
    "harm = 2"
   ]
  },
  {
   "cell_type": "code",
   "execution_count": 191,
   "metadata": {},
   "outputs": [],
   "source": [
    "def D_RF_nobounce(p_norm, ksi, npar, nperp, Wfct, Te, P, X, R, L, S, harm, eps, plot=False):\n",
    "        \n",
    "    # The subfunction, that for a given psi_l and ksi, calculates the \n",
    "    # contribution to D_RF for a given momentum grid [i].\n",
    "    # This is done for all harmonics in n.\n",
    "\n",
    "    npar_tree = KDTree(npar.reshape(-1, 1))\n",
    "    d_npar = npar[1] - npar[0] # Assume a constant grid for now\n",
    "    d_nperp = nperp[1] - nperp[0] # Assume a constant grid for now\n",
    "    \n",
    "\n",
    "    # Precalculate the inverse ksi*p_norm grid, with a small offset to avoid division by zero\n",
    "    inv_kp = 1 / (ksi * p_norm + eps)\n",
    "\n",
    "    # Calculate the relativistic factor, given the thermal momentum at this location\n",
    "    p_Te = pTe_from_Te(Te) # Normalised to m_e*c\n",
    "    Gamma = gamma(p_norm, p_Te)\n",
    "\n",
    "    # Initialise the integrand\n",
    "    D_RF_integrand = np.zeros_like(p_norm)\n",
    "\n",
    "\n",
    "    # resonance_N_par gives a 1D array of the resonant Npar values [i]\n",
    "    # This whole calculation is done dimensionless now. \n",
    "\n",
    "    resonance_N_par = N_par_resonant(inv_kp, p_Te, Gamma, X, harm)\n",
    "\n",
    "    # We can now query the KDTree to get the indices of the resonant values in Npar.\n",
    "    # The code below efficiently looks for the index of the value in Npar that is closest to the resonant value.\n",
    "    # This is done for every point in the grid. If it is not within dNpar/2 of any value in Npar, the index is set to -1.\n",
    "    # This in fact replaces the integral over Npar, as we now just have a 2D array indicating what value of Npar is resonant, if any.\n",
    "\n",
    "    dist_N_par, ind_N_par = npar_tree.query(np.expand_dims(resonance_N_par, axis=-1), k =5, distance_upper_bound=d_npar*10) #/2\n",
    "    res_condition_N_par = np.where(np.isinf(dist_N_par), -1, ind_N_par)\n",
    "    \n",
    "    i_res, n_par_res = np.where(res_condition_N_par != -1)\n",
    "    # The array i_res contains the indices of the resonant values in the p_norm grid for this psi, ksi pair.\n",
    "\n",
    "    # We can now use the mask to select the resonant values in p_norm and calculate the integrand. \n",
    "    # Where there is no Npar value resonant, we can skip the calculation.\n",
    "    print(i_res, n_par_res)\n",
    "    for i, m in zip(i_res, n_par_res):\n",
    "\n",
    "        i_npar = res_condition_N_par[i, m]\n",
    "        # At this point, we check |E|² to see if at Npar[i_npar] (for this p), the beam is present.\n",
    "        # And if so, for what value of Nperp.\n",
    "\n",
    "        #TEST Gaussian prefactor based on the resonance condition\n",
    "        prefac = np.exp(-dist_N_par[i, m]**2/(2*d_npar**2))\n",
    "        mask_beam_present = Wfct[i_npar, :] > 0 \n",
    "        indeces_Nperp_beam_present = np.where(mask_beam_present)[0]        \n",
    "\n",
    "        if np.any(mask_beam_present):\n",
    "            # Calculate the polarisation for the cells where the beam is present\n",
    "            # Now that we've pruned all the data so heavily, finally we can calculate the polarisation for the beam cells.\n",
    "            for i_nperp in indeces_Nperp_beam_present:\n",
    "                # Calculate local quantities\n",
    "                N2 = nperp[i_nperp]**2 + npar[i_npar]**2\n",
    "                K_angle = np.arctan2(npar[i_npar], nperp[i_nperp])\n",
    "                pol = polarisation(N2, K_angle, P, R, L, S)\n",
    "\n",
    "                a_perp = A_perp(nperp[i_nperp], p_norm[i], p_Te, ksi, X)\n",
    "\n",
    "                #Take the bessel functions...\n",
    "                #And combine to get polarisation term\n",
    "                \n",
    "                Pol_term = .5* (pol[0] * bessel_integrand(harm-1, a_perp) + \\\n",
    "                                pol[1] * bessel_integrand(harm+1, a_perp) )+ \\\n",
    "                                    pol[2] * bessel_integrand(harm, a_perp)\n",
    "                \n",
    "                # Now we can calculate the integrand for this point in the grid\n",
    "                D_RF_integrand[i] += d_nperp * prefac * d_npar* nperp[i_nperp] * Pol_term * Wfct[i_npar, i_nperp]\n",
    "\n",
    "    return D_RF_integrand\n"
   ]
  },
  {
   "cell_type": "code",
   "execution_count": 192,
   "metadata": {},
   "outputs": [
    {
     "name": "stdout",
     "output_type": "stream",
     "text": [
      "[ 2  2  2  2  2  3  3  3  3  3  4  4  4  4  4  5  5  5  5  5  6  6  6  6\n",
      "  6  7  7  7  7  7  8  8  8  8  8  9  9  9  9  9 10 10 10 10 10 11 11 11\n",
      " 11 11 12 12 12 12 12 13 13 13 13 13 14 14 14 14 14 15 15 15 15 15 16 16] [0 1 2 3 4 0 1 2 3 4 0 1 2 3 4 0 1 2 3 4 0 1 2 3 4 0 1 2 3 4 0 1 2 3 4 0 1\n",
      " 2 3 4 0 1 2 3 4 0 1 2 3 4 0 1 2 3 4 0 1 2 3 4 0 1 2 3 4 0 1 2 3 4 0 1]\n"
     ]
    }
   ],
   "source": [
    "D_rf_lj = D_RF_nobounce(p_norm, ksi[1], npar, nperp, \\\n",
    "                                Edens[t, :,:], ptTe[l, t], \\\n",
    "                                    P[l, t], X[l, t], R[l, t], L[l, t], S[l, t], harm, eps).T"
   ]
  },
  {
   "cell_type": "code",
   "execution_count": 193,
   "metadata": {},
   "outputs": [
    {
     "data": {
      "text/plain": [
       "[<matplotlib.lines.Line2D at 0x7f3f74f37c10>]"
      ]
     },
     "execution_count": 193,
     "metadata": {},
     "output_type": "execute_result"
    },
    {
     "data": {
      "image/png": "[encoded data removed]",
      "text/plain": [
       "<Figure size 640x480 with 1 Axes>"
      ]
     },
     "metadata": {},
     "output_type": "display_data"
    }
   ],
   "source": [
    "plt.plot(p_norm, D_rf_lj)"
   ]
  }
 ],
 "metadata": {
  "kernelspec": {
   "display_name": "Python 3",
   "language": "python",
   "name": "python3"
  },
  "language_info": {
   "codemirror_mode": {
    "name": "ipython",
    "version": 3
   },
   "file_extension": ".py",
   "mimetype": "text/x-python",
   "name": "python",
   "nbconvert_exporter": "python",
   "pygments_lexer": "ipython3",
   "version": "3.10.12"
  }
 },
 "nbformat": 4,
 "nbformat_minor": 2
}
